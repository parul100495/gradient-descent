{
 "cells": [
  {
   "cell_type": "code",
   "execution_count": 1,
   "metadata": {},
   "outputs": [],
   "source": [
    "# import numpy as np"
   ]
  },
  {
   "cell_type": "code",
   "execution_count": 2,
   "metadata": {},
   "outputs": [],
   "source": [
    "# def best_stock():\n",
    "#     returns = []\n",
    "#     with open(\"stockData.csv\", \"r\") as f:\n",
    "#         for l in f:\n",
    "#             stock = l.split(\",\")\n",
    "#             returns.append(float(stock[-1])/float(stock[0]))\n",
    "#     return max(returns)"
   ]
  },
  {
   "cell_type": "code",
   "execution_count": 3,
   "metadata": {},
   "outputs": [],
   "source": [
    "# def equal_amount():\n",
    "#     with open(\"stockData.csv\", \"r\") as f:\n",
    "#         stock_array = np.zeros((490, 1000))\n",
    "#         k = 0\n",
    "#         for l in f:\n",
    "#             stock = l.split(\",\")\n",
    "#             for j in range(len(stock)):\n",
    "#                 stock_array[k][j] = float(stock[j])\n",
    "#             k += 1\n",
    "#     p = 1/stock_array[:,0]\n",
    "#     out = 0\n",
    "#     for i in range(490):\n",
    "#         out += stock_array[i][-1]*p[i]\n",
    "#     return out/490"
   ]
  },
  {
   "cell_type": "code",
   "execution_count": 4,
   "metadata": {},
   "outputs": [],
   "source": [
    "# def equal_percent():\n",
    "#     returns = []\n",
    "#     with open(\"stockData.csv\", \"r\") as f:\n",
    "#         stock_array = np.zeros((1000, 490))\n",
    "#         k = 0\n",
    "#         for l in f:\n",
    "#             stock = l.split(\",\")\n",
    "#             for j in range(len(stock)):\n",
    "#                 stock_array[j][k] = float(stock[j])\n",
    "#             k += 1\n",
    "#     for i in range(999, 0, -1):\n",
    "#         stock_array[i][:] = np.divide(stock_array[i][:], stock_array[i-1][:])\n",
    "#     stock_array[0][:] = 1\n",
    "#     out = 1\n",
    "#     for i in range(1000):\n",
    "#         out *= sum(stock_array[i][:])/490\n",
    "#     return out"
   ]
  },
  {
   "cell_type": "code",
   "execution_count": 5,
   "metadata": {},
   "outputs": [],
   "source": [
    "# print(\"Best stock: \", best_stock())\n",
    "# print(\"Equal amount: \", equal_amount())\n",
    "# print(\"Equal percent: \", equal_percent())\n"
   ]
  },
  {
   "cell_type": "code",
   "execution_count": 6,
   "metadata": {},
   "outputs": [],
   "source": [
    "# import numpy as np\n",
    "\n",
    "# def get_stock_array():\n",
    "#     with open(\"stockData.csv\", \"r\") as f:\n",
    "#         stock_array = np.zeros((490, 1000))\n",
    "#         k = 0\n",
    "#         for l in f:\n",
    "#             stock = l.split(\",\")\n",
    "#             for j in range(len(stock)):\n",
    "#                 stock_array[k][j] = float(stock[j])\n",
    "#             k += 1\n",
    "    \n",
    "#     return stock_array\n",
    "\n",
    "# def get_top_stocks(sorted_index):\n",
    "#     with open(\"stockNames.csv\", \"r\") as f:\n",
    "#         stocks = f.readline()\n",
    "#         stock_list = stocks.split(\",\")\n",
    "#     top_10_stocks = [stock_list[i[0]] for i in sorted_index][0:10]\n",
    "#     top_10_values = [i[1] for i in sorted_index][0:10]\n",
    "#     return top_10_stocks, top_10_values\n",
    "    "
   ]
  },
  {
   "cell_type": "code",
   "execution_count": 7,
   "metadata": {},
   "outputs": [],
   "source": [
    "# def projection_simplex_sort(v):\n",
    "#     n = len(v)\n",
    "#     u = np.sort(v)[::-1]\n",
    "#     cssv = np.cumsum(u) - 1\n",
    "#     ind = np.arange(n) + 1\n",
    "#     cond = u - cssv / ind > 0\n",
    "#     rho = ind[cond][-1]\n",
    "#     theta = cssv[cond][-1] / float(rho)\n",
    "#     w = np.maximum(v - theta, 0)\n",
    "#     return w"
   ]
  },
  {
   "cell_type": "code",
   "execution_count": 8,
   "metadata": {},
   "outputs": [],
   "source": [
    "# # # import simplex\n",
    "# def projected_grad_descent():\n",
    "#     x = [0] * 490\n",
    "#     x[112] = 1\n",
    "#     input = np.genfromtxt('stockData.csv', delimiter=',')\n",
    "#     for j in range(999, -1, -1):\n",
    "#         jth = input[:,j]\n",
    "#         j_1th = input[:,j-1]\n",
    "#         input[:,j] = np.divide(jth, j_1th)\n",
    "#     input[:,0] = 1\n",
    "#     ita = 0.02\n",
    "#     min_loss = 10000 #float('inf')\n",
    "#     opt_x = [0] * 490\n",
    "#     for i in range(1000):\n",
    "#         r_dx = np.dot(input.T, x)\n",
    "#         df_dx = [0]*490\n",
    "#         for j in range(490):\n",
    "#             divide_val = np.divide(input[j][:], r_dx)\n",
    "#             grad = - sum(divide_val)\n",
    "#             df_dx[j] = x[j] - ita * grad\n",
    "#             x[j] = x[j] - ita * df_dx[j]\n",
    "#         x = projection_simplex_sort(x)\n",
    "#         loss = - sum(np.log(np.dot(input.T, x)))\n",
    "# #         print(\"loss: \", loss)\n",
    "        \n",
    "#         if loss < min_loss:\n",
    "            \n",
    "#             min_loss = loss\n",
    "# #             print(\"min-loss:\", min_loss)\n",
    "#             for j in range(490):\n",
    "#                 opt_x[j] = x[j]\n",
    "#     return_output= np.prod(np.dot(input.T, opt_x))\n",
    "#     sort_index = [(i[0], i[1]) for i in \n",
    "#                       sorted(enumerate(opt_x), \n",
    "#                              key=lambda x:x[1], \n",
    "#                              reverse=True)]\n",
    "#     best_stocks, best_values = get_top_stocks(sort_index)\n",
    "# #             print(f\"Step size: {step_size}, iter: {iter_value}\")\n",
    "#     print(return_output, best_stocks, best_values)\n",
    "\n",
    "#     print(\"=====================================\")\n",
    "        "
   ]
  },
  {
   "cell_type": "code",
   "execution_count": 9,
   "metadata": {},
   "outputs": [],
   "source": [
    "# projected_grad_descent()"
   ]
  },
  {
   "cell_type": "code",
   "execution_count": 10,
   "metadata": {},
   "outputs": [],
   "source": [
    "# def projected_grad_descent():\n",
    "#     step_size_array = [0.02]\n",
    "#     iterations = [1000]\n",
    "#     for step_size in step_size_array:\n",
    "#         for iter_value in iterations:\n",
    "#             x = np.zeros((490,))\n",
    "#             x[100] = 1\n",
    "#             stock_array = get_stock_array()\n",
    "#             for i in range(999, 0, -1):\n",
    "#                 stock_array[:, i] = np.divide(stock_array[:, i], stock_array[:, i-1])\n",
    "#             stock_array[:, 0] = 1\n",
    "#             res_loss = float('inf')\n",
    "#             optimal_x = np.zeros((490,))\n",
    "#             for i in range(iter_value):\n",
    "#                 return_ = np.dot(stock_array.transpose(), x)\n",
    "#                 df_dx = np.zeros((490,))\n",
    "#                 for j in range(490):\n",
    "#                     grad_val = sum(np.divide(stock_array[j][:], return_))\n",
    "#                     df_dx[j] = x[j] + step_size * grad_val\n",
    "#                     x[j] = x[j] - step_size * df_dx[j]\n",
    "#                 x = projection_simplex_sort(x)\n",
    "#                 loss = - np.sum(np.log(np.dot(stock_array.transpose(), x)))\n",
    "#                 if loss < res_loss:\n",
    "#                     res_loss = loss\n",
    "#                     for j in range(490):\n",
    "#                         optimal_x[j] = x[j]\n",
    "#             ret_ = np.prod(np.dot(stock_array.transpose(), optimal_x))\n",
    "#             sort_index = [(i[0], i[1]) for i in \n",
    "#                           sorted(enumerate(optimal_x), \n",
    "#                                  key=lambda x:x[1], \n",
    "#                                  reverse=True)]\n",
    "#             best_stocks, best_values = get_top_stocks(sort_index)\n",
    "#             print(f\"Step size: {step_size}, iter: {iter_value}\")\n",
    "#             print(ret_, best_stocks, best_values)\n",
    "            \n",
    "#             print(\"=====================================\")"
   ]
  },
  {
   "cell_type": "code",
   "execution_count": 11,
   "metadata": {},
   "outputs": [],
   "source": [
    "# def online_gradient_descent():\n",
    "#     step_size_array = [0.02]\n",
    "#     iterations = [1000]\n",
    "#     for step_size in step_size_array:\n",
    "#         for iter_value in iterations:\n",
    "#             x = np.zeros((490,))\n",
    "#             x[100] = 1\n",
    "#             stock_array = get_stock_array()\n",
    "#             for i in range(999, 0, -1):\n",
    "#                 stock_array[:, i] = np.divide(stock_array[:, i], stock_array[:, i-1])\n",
    "#             stock_array[:,0] = 1\n",
    "#             res_loss = float('inf')\n",
    "#             optimal_x = np.zeros((490,))\n",
    "#             output_return = 1\n",
    "#             for i in range(iter_value):\n",
    "#                 current = stock_array[:,i]\n",
    "#                 return_ = current * x + 1e-5\n",
    "#                 return_ = np.dot(stock_array.transpose(), x)\n",
    "#                 df_dx = np.zeros((490,))\n",
    "#                 for j in range(490):\n",
    "#                     grad_val = sum(np.divide(stock_array[j][:], return_))\n",
    "#                     df_dx[j] = x[j] + step_size * grad_val\n",
    "#                 x = x - step_size * df_dx\n",
    "#                 x = projection_simplex_sort(x)\n",
    "#                 loss = - np.sum(np.log(np.dot(stock_array.transpose(), x)))\n",
    "#                 if loss < res_loss:\n",
    "#                     res_loss = loss\n",
    "#                     optimal_x = x\n",
    "#             ret_ = np.prod(np.dot(stock_array.transpose(), optimal_x))\n",
    "#             sort_index = [(i[0], i[1]) for i in \n",
    "#                           sorted(enumerate(optimal_x), \n",
    "#                                  key=lambda x:x[1], \n",
    "#                                  reverse=True)]\n",
    "#             best_stocks, best_values = get_top_stocks(sort_index)\n",
    "#             print(f\"Step size: {step_size}, iter: {iter_value}\")\n",
    "#             print(ret_, best_stocks, best_values)\n",
    "            \n",
    "#             print(\"=====================================\")"
   ]
  },
  {
   "cell_type": "code",
   "execution_count": 12,
   "metadata": {},
   "outputs": [],
   "source": [
    "###############"
   ]
  },
  {
   "cell_type": "code",
   "execution_count": 13,
   "metadata": {},
   "outputs": [],
   "source": [
    "import numpy as np\n",
    "# from numpy import genfromtxt"
   ]
  },
  {
   "cell_type": "code",
   "execution_count": 38,
   "metadata": {},
   "outputs": [],
   "source": [
    "def best_stock(profit_ratio):\n",
    "    return np.max(profit_ratio)"
   ]
  },
  {
   "cell_type": "code",
   "execution_count": 39,
   "metadata": {},
   "outputs": [],
   "source": [
    "def equal_proportion(profit_ratio):\n",
    "    return np.average(profit_ratio)"
   ]
  },
  {
   "cell_type": "code",
   "execution_count": 40,
   "metadata": {},
   "outputs": [],
   "source": [
    "def equal_percent(data):\n",
    "    stock_old = 1\n",
    "    for i in range(1, 1000) :\n",
    "        return_value = np.divide(data[:, i], data[:, i-1])\n",
    "        stock_new = stock_old * np.average(return_value)\n",
    "        stock_old = stock_new\n",
    "    return np.average(stock_new)"
   ]
  },
  {
   "cell_type": "code",
   "execution_count": 41,
   "metadata": {},
   "outputs": [],
   "source": [
    "def first_part():\n",
    "    data = np.genfromtxt('stockData.csv', delimiter=',')\n",
    "    return_value = np.zeros_like(data)\n",
    "    old_data = data[:, 0]\n",
    "    for i in range(1000):\n",
    "        return_value[:, i] = data[:, i]/old_data\n",
    "        old_data = data[:, i]\n",
    "\n",
    "    profit_ratio = np.divide(data[:, 999], data[:, 0])\n",
    "\n",
    "    print(\"Best Stock: \", best_stock(profit_ratio))\n",
    "    print(\"Equal money stocks : \", equal_proportion(profit_ratio))\n",
    "    print(\"Equal percent: \", equal_percent(data))"
   ]
  },
  {
   "cell_type": "code",
   "execution_count": 42,
   "metadata": {},
   "outputs": [
    {
     "name": "stdout",
     "output_type": "stream",
     "text": [
      "Best Stock:  8.316425120772948\n",
      "Equal money stocks :  1.5802565023247446\n",
      "Equal percent:  1.6327365103498066\n"
     ]
    }
   ],
   "source": [
    "first_part()"
   ]
  },
  {
   "cell_type": "code",
   "execution_count": 48,
   "metadata": {},
   "outputs": [
    {
     "name": "stdout",
     "output_type": "stream",
     "text": [
      "8.887674261642815\n"
     ]
    }
   ],
   "source": [
    "# # import matplotlib as plt\n",
    "\n",
    "# data = np.genfromtxt('stockData.csv', delimiter=',')\n",
    "# # n = 490\n",
    "# # xs = [[1/ n ]* n]\n",
    "# # log = []\n",
    "# # r_t = np.divide(data[:, 999], data[:, 998])\n",
    "# # for step in range (2000) :\n",
    "# #     t1 = xs[-1] - grad(xs[-1], r_t)\n",
    "# #     t = projection(t1)\n",
    "# #     xs.append(t)\n",
    "# #     log.append(get_return(xs[-1], data))\n",
    "# # # plt.plot(log)\n",
    "# # # plt.show()\n",
    "# # print(np.argmax(t))\n",
    "# # print(log[-1])\n",
    "\n",
    "\n",
    "# # 96\n",
    "# # 97 if __name__"
   ]
  },
  {
   "cell_type": "code",
   "execution_count": 49,
   "metadata": {},
   "outputs": [],
   "source": [
    "def get_stock_array():\n",
    "    with open(\"stockData.csv\", \"r\") as f:\n",
    "        stock_array = np.zeros((490, 1000))\n",
    "        k = 0\n",
    "        for l in f:\n",
    "            stock = l.split(\",\")\n",
    "            for j in range(len(stock)):\n",
    "                stock_array[k][j] = float(stock[j])\n",
    "            k += 1\n",
    "    \n",
    "    return stock_array\n",
    "\n",
    "def get_top_stocks(sorted_index):\n",
    "    with open(\"stockNames.csv\", \"r\") as f:\n",
    "        stocks = f.readline()\n",
    "        stock_list = stocks.split(\",\")\n",
    "    top_10_stocks = [stock_list[i[0]] for i in sorted_index][0:10]\n",
    "    top_10_values = [i[1] for i in sorted_index][0:10]\n",
    "    return top_10_stocks, top_10_values\n",
    "    "
   ]
  },
  {
   "cell_type": "code",
   "execution_count": 50,
   "metadata": {},
   "outputs": [],
   "source": [
    "\n"
   ]
  },
  {
   "cell_type": "code",
   "execution_count": 51,
   "metadata": {},
   "outputs": [
    {
     "data": {
      "text/plain": [
       "(['COH', 'CVH', 'AAPL', 'AA', 'ABC', 'ABI', 'ABK', 'ABS', 'ABT', 'ACE'],\n",
       " [0.7235122889059085,\n",
       "  0.1810682214929784,\n",
       "  0.09541948960122681,\n",
       "  0.0,\n",
       "  0.0,\n",
       "  0.0,\n",
       "  0.0,\n",
       "  0.0,\n",
       "  0.0,\n",
       "  0.0])"
      ]
     },
     "execution_count": 51,
     "metadata": {},
     "output_type": "execute_result"
    }
   ],
   "source": [
    "best_stocks, best_values"
   ]
  },
  {
   "cell_type": "code",
   "execution_count": 72,
   "metadata": {},
   "outputs": [],
   "source": [
    "def online_grad_descent(ret, x, eta, t):\n",
    "    ret = ret[: ,:t]\n",
    "    df_dx = -np.sum(np.divide(ret, np.dot(ret.transpose(), x)), axis = 1)\n",
    "    x = x - eta * df_dx\n",
    "    return projection(x), get_return(projection(x), ret)"
   ]
  },
  {
   "cell_type": "code",
   "execution_count": 77,
   "metadata": {},
   "outputs": [],
   "source": [
    "def third_part():\n",
    "    data = np.genfromtxt('stockData.csv', delimiter=',')\n",
    "    n = 490\n",
    "    x = [[1/ n ]* n]\n",
    "    returns = []\n",
    "#     log = []\n",
    "    for t in range (1, 1000):\n",
    "        x, t = online_grad_descent(return_value, x, eta, 1000)\n",
    "        returns.append(t)\n",
    "        returns = np.array(returns)\n",
    "    print(\"Return value: \", returns[-1])\n",
    "    return x, data\n",
    "#     r_t = np.divide(data[:, 999], data[:, 998])\n",
    "#     for step in range (2000) :\n",
    "#         t1 = xs[-1] - grad(xs[-1], r_t)\n",
    "#         t = projection(t1)\n",
    "#         xs.append(t)\n",
    "#         log.append(get_return(xs[-1], data))\n",
    "#     print(np.argmax(t))\n",
    "#     print(log[-1])"
   ]
  },
  {
   "cell_type": "code",
   "execution_count": 78,
   "metadata": {},
   "outputs": [
    {
     "ename": "ValueError",
     "evalue": "shapes (1000,490) and (1,490) not aligned: 490 (dim 1) != 1 (dim 0)",
     "output_type": "error",
     "traceback": [
      "\u001b[0;31m---------------------------------------------------------------------------\u001b[0m",
      "\u001b[0;31mValueError\u001b[0m                                Traceback (most recent call last)",
      "\u001b[0;32m<ipython-input-78-b91afec15b40>\u001b[0m in \u001b[0;36m<module>\u001b[0;34m\u001b[0m\n\u001b[0;32m----> 1\u001b[0;31m \u001b[0mx\u001b[0m\u001b[0;34m,\u001b[0m \u001b[0mdata\u001b[0m \u001b[0;34m=\u001b[0m \u001b[0mthird_part\u001b[0m\u001b[0;34m(\u001b[0m\u001b[0;34m)\u001b[0m\u001b[0;34m\u001b[0m\u001b[0;34m\u001b[0m\u001b[0m\n\u001b[0m\u001b[1;32m      2\u001b[0m sort_index = [(i[0], i[1]) for i in sorted(enumerate(x), \n\u001b[1;32m      3\u001b[0m                                                        \u001b[0mkey\u001b[0m\u001b[0;34m=\u001b[0m\u001b[0;32mlambda\u001b[0m \u001b[0my\u001b[0m\u001b[0;34m:\u001b[0m\u001b[0my\u001b[0m\u001b[0;34m[\u001b[0m\u001b[0;36m1\u001b[0m\u001b[0;34m]\u001b[0m\u001b[0;34m,\u001b[0m\u001b[0;34m\u001b[0m\u001b[0;34m\u001b[0m\u001b[0m\n\u001b[1;32m      4\u001b[0m                                                        reverse=True)]\n\u001b[1;32m      5\u001b[0m \u001b[0mret_\u001b[0m \u001b[0;34m=\u001b[0m \u001b[0mget_return\u001b[0m\u001b[0;34m(\u001b[0m\u001b[0mx\u001b[0m\u001b[0;34m,\u001b[0m \u001b[0mdata\u001b[0m\u001b[0;34m)\u001b[0m\u001b[0;34m\u001b[0m\u001b[0;34m\u001b[0m\u001b[0m\n",
      "\u001b[0;32m<ipython-input-77-a2cc600cceb7>\u001b[0m in \u001b[0;36mthird_part\u001b[0;34m()\u001b[0m\n\u001b[1;32m      6\u001b[0m \u001b[0;31m#     log = []\u001b[0m\u001b[0;34m\u001b[0m\u001b[0;34m\u001b[0m\u001b[0;34m\u001b[0m\u001b[0m\n\u001b[1;32m      7\u001b[0m     \u001b[0;32mfor\u001b[0m \u001b[0mt\u001b[0m \u001b[0;32min\u001b[0m \u001b[0mrange\u001b[0m \u001b[0;34m(\u001b[0m\u001b[0;36m1\u001b[0m\u001b[0;34m,\u001b[0m \u001b[0;36m1000\u001b[0m\u001b[0;34m)\u001b[0m\u001b[0;34m:\u001b[0m\u001b[0;34m\u001b[0m\u001b[0;34m\u001b[0m\u001b[0m\n\u001b[0;32m----> 8\u001b[0;31m         \u001b[0mx\u001b[0m\u001b[0;34m,\u001b[0m \u001b[0mt\u001b[0m \u001b[0;34m=\u001b[0m \u001b[0monline_grad_descent\u001b[0m\u001b[0;34m(\u001b[0m\u001b[0mreturn_value\u001b[0m\u001b[0;34m,\u001b[0m \u001b[0mx\u001b[0m\u001b[0;34m,\u001b[0m \u001b[0meta\u001b[0m\u001b[0;34m,\u001b[0m \u001b[0;36m1000\u001b[0m\u001b[0;34m)\u001b[0m\u001b[0;34m\u001b[0m\u001b[0;34m\u001b[0m\u001b[0m\n\u001b[0m\u001b[1;32m      9\u001b[0m         \u001b[0mreturns\u001b[0m\u001b[0;34m.\u001b[0m\u001b[0mappend\u001b[0m\u001b[0;34m(\u001b[0m\u001b[0mt\u001b[0m\u001b[0;34m)\u001b[0m\u001b[0;34m\u001b[0m\u001b[0;34m\u001b[0m\u001b[0m\n\u001b[1;32m     10\u001b[0m         \u001b[0mreturns\u001b[0m \u001b[0;34m=\u001b[0m \u001b[0mnp\u001b[0m\u001b[0;34m.\u001b[0m\u001b[0marray\u001b[0m\u001b[0;34m(\u001b[0m\u001b[0mreturns\u001b[0m\u001b[0;34m)\u001b[0m\u001b[0;34m\u001b[0m\u001b[0;34m\u001b[0m\u001b[0m\n",
      "\u001b[0;32m<ipython-input-72-996a41383d39>\u001b[0m in \u001b[0;36monline_grad_descent\u001b[0;34m(ret, x, eta, t)\u001b[0m\n\u001b[1;32m      1\u001b[0m \u001b[0;32mdef\u001b[0m \u001b[0monline_grad_descent\u001b[0m\u001b[0;34m(\u001b[0m\u001b[0mret\u001b[0m\u001b[0;34m,\u001b[0m \u001b[0mx\u001b[0m\u001b[0;34m,\u001b[0m \u001b[0meta\u001b[0m\u001b[0;34m,\u001b[0m \u001b[0mt\u001b[0m\u001b[0;34m)\u001b[0m\u001b[0;34m:\u001b[0m\u001b[0;34m\u001b[0m\u001b[0;34m\u001b[0m\u001b[0m\n\u001b[1;32m      2\u001b[0m     \u001b[0mret\u001b[0m \u001b[0;34m=\u001b[0m \u001b[0mret\u001b[0m\u001b[0;34m[\u001b[0m\u001b[0;34m:\u001b[0m \u001b[0;34m,\u001b[0m\u001b[0;34m:\u001b[0m\u001b[0mt\u001b[0m\u001b[0;34m]\u001b[0m\u001b[0;34m\u001b[0m\u001b[0;34m\u001b[0m\u001b[0m\n\u001b[0;32m----> 3\u001b[0;31m     \u001b[0mdf_dx\u001b[0m \u001b[0;34m=\u001b[0m \u001b[0;34m-\u001b[0m\u001b[0mnp\u001b[0m\u001b[0;34m.\u001b[0m\u001b[0msum\u001b[0m\u001b[0;34m(\u001b[0m\u001b[0mnp\u001b[0m\u001b[0;34m.\u001b[0m\u001b[0mdivide\u001b[0m\u001b[0;34m(\u001b[0m\u001b[0mret\u001b[0m\u001b[0;34m,\u001b[0m \u001b[0mnp\u001b[0m\u001b[0;34m.\u001b[0m\u001b[0mdot\u001b[0m\u001b[0;34m(\u001b[0m\u001b[0mret\u001b[0m\u001b[0;34m.\u001b[0m\u001b[0mtranspose\u001b[0m\u001b[0;34m(\u001b[0m\u001b[0;34m)\u001b[0m\u001b[0;34m,\u001b[0m \u001b[0mx\u001b[0m\u001b[0;34m)\u001b[0m\u001b[0;34m)\u001b[0m\u001b[0;34m,\u001b[0m \u001b[0maxis\u001b[0m \u001b[0;34m=\u001b[0m \u001b[0;36m1\u001b[0m\u001b[0;34m)\u001b[0m\u001b[0;34m\u001b[0m\u001b[0;34m\u001b[0m\u001b[0m\n\u001b[0m\u001b[1;32m      4\u001b[0m     \u001b[0mx\u001b[0m \u001b[0;34m=\u001b[0m \u001b[0mx\u001b[0m \u001b[0;34m-\u001b[0m \u001b[0meta\u001b[0m \u001b[0;34m*\u001b[0m \u001b[0mdf_dx\u001b[0m\u001b[0;34m\u001b[0m\u001b[0;34m\u001b[0m\u001b[0m\n\u001b[1;32m      5\u001b[0m     \u001b[0;32mreturn\u001b[0m \u001b[0mprojection\u001b[0m\u001b[0;34m(\u001b[0m\u001b[0mx\u001b[0m\u001b[0;34m)\u001b[0m\u001b[0;34m,\u001b[0m \u001b[0mget_return\u001b[0m\u001b[0;34m(\u001b[0m\u001b[0mprojection\u001b[0m\u001b[0;34m(\u001b[0m\u001b[0mx\u001b[0m\u001b[0;34m)\u001b[0m\u001b[0;34m,\u001b[0m \u001b[0mret\u001b[0m\u001b[0;34m)\u001b[0m\u001b[0;34m\u001b[0m\u001b[0;34m\u001b[0m\u001b[0m\n",
      "\u001b[0;32m<__array_function__ internals>\u001b[0m in \u001b[0;36mdot\u001b[0;34m(*args, **kwargs)\u001b[0m\n",
      "\u001b[0;31mValueError\u001b[0m: shapes (1000,490) and (1,490) not aligned: 490 (dim 1) != 1 (dim 0)"
     ]
    }
   ],
   "source": [
    "x, data = third_part()\n",
    "sort_index = [(i[0], i[1]) for i in sorted(enumerate(x), \n",
    "                                           key=lambda y:y[1], \n",
    "                                           reverse=True)]\n",
    "ret_ = get_return(x, data)\n",
    "best_stocks, best_values = get_top_stocks(sort_index)"
   ]
  },
  {
   "cell_type": "code",
   "execution_count": null,
   "metadata": {},
   "outputs": [],
   "source": [
    "def grad(x, r_t):\n",
    "    return - r_t/np.dot(r_t, x)\n",
    "\n",
    "def projection(x):\n",
    "    v = np.sort(x)[:: -1]\n",
    "    t2 = []\n",
    "    for i in range(len(v)):\n",
    "        t1 = v[i] + (1 - np.sum(v[:i+1]))/(i+1)\n",
    "        if t1 >0:\n",
    "            t2.append(i +1)\n",
    "    t2 = np.asarray(t2)\n",
    "    rho = np.max(t2)\n",
    "    lamb = (1 - np.sum(v[: rho]))/rho\n",
    "    k = np.maximum(x+lamb, 0)\n",
    "    return k\n",
    "\n",
    "def get_return(x, data): # forward - forwardOnline => data = r\n",
    "    return_value = 1\n",
    "    for i in range(data.shape[1]) :\n",
    "        return_value *= np.dot(data[:, i], x)\n",
    "    return return_value"
   ]
  },
  {
   "cell_type": "code",
   "execution_count": 63,
   "metadata": {},
   "outputs": [],
   "source": [
    "def proj_gd(x, eta, iteration, data):\n",
    "    ret_ = 0\n",
    "    n = data.shape[0]\n",
    "#     r_t = np.divide(data[:, 999], data[:, 998])\n",
    "    for it in range(iteration):\n",
    "        t1 = x - eta * grad(x, r_t)\n",
    "        t = projection(t1)\n",
    "        x = t\n",
    "        ret_ = get_return(x, data)\n",
    "    return x, ret_"
   ]
  },
  {
   "cell_type": "code",
   "execution_count": 68,
   "metadata": {},
   "outputs": [],
   "source": [
    "def projected_grad_descent():\n",
    "    data = np.genfromtxt('stockData.csv', delimiter=',')\n",
    "    return_value = np.zeros_like(data)\n",
    "    old_data = data[:, 0]\n",
    "    for i in range(1000):\n",
    "        return_value[:, i] = data[:, i]/old_data\n",
    "        old_data = data[:, i]\n",
    "    n = data.shape[0]\n",
    "    first = [1/ n]* n\n",
    "    x = [1/ n ]* n\n",
    "    eta_array = [0.05]\n",
    "    iterations = [1000]\n",
    "    for eta in eta_array:\n",
    "        for iteration in iterations:\n",
    "            x, ret_ = proj_gd(x, eta, iteration, data)\n",
    "            sort_index = [(i[0], i[1]) for i in sorted(enumerate(x), \n",
    "                                                       key=lambda y:y[1], \n",
    "                                                       reverse=True)]\n",
    "#             ret_ = np.prod(np.dot(stock_array.transpose(), x))\n",
    "            best_stocks, best_values = get_top_stocks(sort_index)\n",
    "            print(f\"Eta: {eta}, iter: {iteration}\")\n",
    "            print(ret_, best_stocks, best_values)\n",
    "            \n",
    "            print(\"=====================================\")\n",
    "    return x, data\n",
    "#             return_ = np.dot(stock_array.transpose(), x)\n",
    "#             df_dx = np.zeros((490,))\n",
    "#             for j in range(490):\n",
    "#                 grad_val = sum(np.divide(stock_array[j][:], return_))\n",
    "#                 df_dx[j] = x[j] + step_size * grad_val\n",
    "#                 x[j] = x[j] - step_size * df_dx[j]\n",
    "#             x = projection_simplex_sort(x)\n",
    "#             loss = - np.sum(np.log(np.dot(stock_array.transpose(), x)))\n",
    "#             if loss < res_loss:\n",
    "#                 res_loss = loss\n",
    "#                 for j in range(490):\n",
    "#                     optimal_x[j] = x[j]\n",
    "#         ret_ = np.prod(np.dot(stock_array.transpose(), optimal_x))"
   ]
  },
  {
   "cell_type": "code",
   "execution_count": 69,
   "metadata": {},
   "outputs": [
    {
     "name": "stderr",
     "output_type": "stream",
     "text": [
      "/Users/parulgupta/anaconda3/lib/python3.7/site-packages/ipykernel_launcher.py:20: RuntimeWarning: overflow encountered in double_scalars\n"
     ]
    },
    {
     "name": "stdout",
     "output_type": "stream",
     "text": [
      "Eta: 0.05, iter: 1000\n",
      "inf ['JDSU', 'AA', 'AAPL', 'ABC', 'ABI', 'ABK', 'ABS', 'ABT', 'ACE', 'ACS'] [1.0, 0.0, 0.0, 0.0, 0.0, 0.0, 0.0, 0.0, 0.0, 0.0]\n",
      "=====================================\n"
     ]
    }
   ],
   "source": [
    "x, data = projected_grad_descent()"
   ]
  },
  {
   "cell_type": "code",
   "execution_count": 71,
   "metadata": {},
   "outputs": [
    {
     "data": {
      "text/plain": [
       "(490,)"
      ]
     },
     "execution_count": 71,
     "metadata": {},
     "output_type": "execute_result"
    }
   ],
   "source": [
    "x.shape"
   ]
  },
  {
   "cell_type": "code",
   "execution_count": null,
   "metadata": {},
   "outputs": [],
   "source": [
    "n = data . shape [0]\n",
    "first = [1/ n ]* n\n",
    "x = [1/ n ]* n\n",
    "learning_rate = 0.5\n",
    "returns = []\n",
    "for t in range (1 ,1000) :\n",
    "    x , t = onlineGD (r , x , learning_rate ,t)\n",
    "    returns.append (t )\n",
    "\n",
    "returns = np.array ( returns )\n",
    "plt.plot ( returns )\n",
    "print ( returns [ -1])"
   ]
  },
  {
   "cell_type": "code",
   "execution_count": null,
   "metadata": {},
   "outputs": [],
   "source": [
    "# def projected_grad_descent():\n",
    "#     return_value = np.zeros_like(data)\n",
    "#     old_data = data[:, 0]\n",
    "#     for i in range(1000):\n",
    "#         return_value[:, i] = data[:, i]/old_data\n",
    "#         old_data = data[:, i]\n",
    "#     n = data.shape[0]\n",
    "#     first = [1/ n]* n\n",
    "#     x = [1/ n ]* n\n",
    "#     eta_array = [0.001, 0.005, 0.01, 0.05, 0.1, 0.5]\n",
    "#     iterations = [10, 100, 500, 1000]\n",
    "#     for eta in eta_array:\n",
    "#         for iteration in iterations:\n",
    "#             returns = []\n",
    "# #             for t in range (1, 1000):\n",
    "#             x, t = proj_grad_descent(return_value, x, eta, 1000)\n",
    "#             returns.append(t)\n",
    "#             returns = np.array(returns)\n",
    "#             print(\"Return value: \", returns[-1])\n",
    "    "
   ]
  }
 ],
 "metadata": {
  "kernelspec": {
   "display_name": "Python 3",
   "language": "python",
   "name": "python3"
  },
  "language_info": {
   "codemirror_mode": {
    "name": "ipython",
    "version": 3
   },
   "file_extension": ".py",
   "mimetype": "text/x-python",
   "name": "python",
   "nbconvert_exporter": "python",
   "pygments_lexer": "ipython3",
   "version": "3.7.3"
  }
 },
 "nbformat": 4,
 "nbformat_minor": 2
}

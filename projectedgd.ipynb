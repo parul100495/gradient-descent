{
 "cells": [
  {
   "cell_type": "code",
   "execution_count": 1,
   "metadata": {},
   "outputs": [],
   "source": [
    "import numpy as np\n",
    "\n",
    "# def grad(x, return_value):\n",
    "    \n",
    "#     denominator = np.dot(return_value, x)\n",
    "#     return - return_value/np.dot(r_t, x)\n",
    "\n",
    "def grad_new(x, return_value):\n",
    "    df_dx = []\n",
    "\n",
    "    for i in range(490):\n",
    "        delta_val = 0\n",
    "        for j in range(1000):\n",
    "            denominator = np.dot(return_value[:,j], x)\n",
    "            delta_val += return_value[i,j]/denominator\n",
    "        df_dx.append(-delta_val)\n",
    "    return df_dx\n",
    "\n",
    "\n",
    "def projection(x):\n",
    "    v = np.sort(x)[:: -1]\n",
    "    t2 = []\n",
    "    for i in range(len(v)):\n",
    "        t1 = v[i] + (1 - np.sum(v[:i+1]))/(i+1)\n",
    "        if t1 >0:\n",
    "            t2.append(i +1)\n",
    "    t2 = np.asarray(t2)\n",
    "    rho = np.max(t2)\n",
    "    lamb = (1 - np.sum(v[: rho]))/rho\n",
    "    k = np.maximum(x+lamb, 0)\n",
    "    return k\n",
    "\n",
    "def get_return(x, data):\n",
    "    return_value = 1\n",
    "    for i in range(data.shape[1]) :\n",
    "        return_value *= np.dot(data[:, i].transpose(), x)\n",
    "    return return_value"
   ]
  },
  {
   "cell_type": "code",
   "execution_count": 5,
   "metadata": {},
   "outputs": [],
   "source": [
    "# def proj_grad_descent(return_value, x , eta, data):\n",
    "# #     log = list ()\n",
    "#     r_t = np.divide ( data [: , 999], data [: , 1])\n",
    "#     for _ in range(10) :\n",
    "#         t1 = x - eta * grad(x, r_t)\n",
    "#         t = projection(t1)\n",
    "#         print(sum(t))\n",
    "#         x = t\n",
    "#         ret_ = get_return(x, data)\n",
    "#     return x, ret_"
   ]
  },
  {
   "cell_type": "code",
   "execution_count": 29,
   "metadata": {},
   "outputs": [],
   "source": [
    "import matplotlib.pyplot as plt\n",
    "\n",
    "def second_part():\n",
    "    data = np.genfromtxt('stockData.csv', delimiter=',')\n",
    "    return_value = np.zeros_like(data)\n",
    "    old_data = data[:, 0]\n",
    "    for i in range(1000):\n",
    "        return_value[:, i] = data[:, i]/old_data\n",
    "        old_data = data[:, i]\n",
    "    n = len(data)\n",
    "    x = [1/ n ]*n  # equal distribution - initialisation\n",
    "    eta_array = [0.02]  # [0.01, 0.05, 0.1, 0.5]\n",
    "    for eta in eta_array:\n",
    "        xs = [[1/ n ]* n]\n",
    "        returns = []\n",
    "        for step in range(10) :\n",
    "            t1 = x - eta * np.array(grad_new(x, return_value))\n",
    "            t = projection(t1)\n",
    "            x = t\n",
    "            print(sum(x))\n",
    "            returns.append(get_return(x, data))\n",
    "        plt.plot(returns)\n",
    "        plt.show()\n",
    "        print(returns[-1])\n",
    "    return x"
   ]
  },
  {
   "cell_type": "code",
   "execution_count": 30,
   "metadata": {},
   "outputs": [
    {
     "name": "stdout",
     "output_type": "stream",
     "text": [
      "1.0000000000001243\n"
     ]
    },
    {
     "name": "stderr",
     "output_type": "stream",
     "text": [
      "/Users/parulgupta/anaconda3/lib/python3.7/site-packages/ipykernel_launcher.py:36: RuntimeWarning: overflow encountered in double_scalars\n"
     ]
    },
    {
     "name": "stdout",
     "output_type": "stream",
     "text": [
      "0.999999999999897\n",
      "1.000000000000007\n",
      "0.9999999999999503\n",
      "1.0000000000000426\n",
      "1.000000000000071\n",
      "0.9999999999998508\n",
      "0.9999999999999716\n",
      "0.9999999999999041\n",
      "1.0000000000001315\n"
     ]
    },
    {
     "data": {
      "image/png": "[encoded data removed]",
      "text/plain": [
       "<Figure size 432x288 with 1 Axes>"
      ]
     },
     "metadata": {
      "needs_background": "light"
     },
     "output_type": "display_data"
    },
    {
     "name": "stdout",
     "output_type": "stream",
     "text": [
      "inf\n"
     ]
    }
   ],
   "source": [
    "x = second_part()"
   ]
  },
  {
   "cell_type": "code",
   "execution_count": 2,
   "metadata": {},
   "outputs": [
    {
     "data": {
      "text/plain": [
       "(490, 1000)"
      ]
     },
     "execution_count": 2,
     "metadata": {},
     "output_type": "execute_result"
    }
   ],
   "source": [
    "# data = np.genfromtxt('stockData.csv', delimiter=',')\n",
    "# return_value = np.zeros_like(data)\n",
    "# old_data = data[:, 0]\n",
    "# for i in range(1000):\n",
    "#     return_value[:, i] = data[:, i]/old_data\n",
    "#     old_data = data[:, i]\n",
    "# return_value.shape"
   ]
  },
  {
   "cell_type": "code",
   "execution_count": 8,
   "metadata": {},
   "outputs": [
    {
     "data": {
      "text/plain": [
       "490"
      ]
     },
     "execution_count": 8,
     "metadata": {},
     "output_type": "execute_result"
    }
   ],
   "source": [
    "x = [1/ len(data) ]*len(data)\n",
    "len(x)"
   ]
  },
  {
   "cell_type": "code",
   "execution_count": 31,
   "metadata": {},
   "outputs": [
    {
     "name": "stdout",
     "output_type": "stream",
     "text": [
      "1 0.11877961846542817\n",
      "16 0.03796388740031986\n",
      "20 0.08886427935946628\n",
      "78 0.008769026319392026\n",
      "112 0.16274477920943653\n",
      "128 0.12524138101919746\n",
      "163 0.00680855809456915\n",
      "168 0.015073342289408487\n",
      "174 0.0397180393086316\n",
      "210 0.06496413574056703\n",
      "228 0.02050367458156188\n",
      "248 0.01954209904397075\n",
      "249 0.0047736300733625114\n",
      "350 0.018523975515677193\n",
      "360 0.017287785820787605\n",
      "418 0.027070685211938894\n",
      "459 0.0697371794362418\n",
      "471 0.009141694114916277\n",
      "485 0.08813823024475198\n",
      "486 0.05635399875050595\n"
     ]
    }
   ],
   "source": [
    "for i in range(len(x)):\n",
    "    if x[i] > 0:\n",
    "        print(i, x[i])"
   ]
  },
  {
   "cell_type": "code",
   "execution_count": 11,
   "metadata": {},
   "outputs": [
    {
     "name": "stderr",
     "output_type": "stream",
     "text": [
      "/Users/parulgupta/anaconda3/lib/python3.7/site-packages/ipykernel_launcher.py:36: RuntimeWarning: overflow encountered in double_scalars\n"
     ]
    },
    {
     "data": {
      "text/plain": [
       "inf"
      ]
     },
     "execution_count": 11,
     "metadata": {},
     "output_type": "execute_result"
    }
   ],
   "source": [
    "data = np.genfromtxt('stockData.csv', delimiter=',')\n",
    "return_value = np.zeros_like(data)\n",
    "old_data = data[:, 0]\n",
    "for i in range(1000):\n",
    "    return_value[:, i] = data[:, i]/old_data\n",
    "    old_data = data[:, i]\n",
    "n = len(data)\n",
    "get_return(x, data)"
   ]
  },
  {
   "cell_type": "code",
   "execution_count": 28,
   "metadata": {},
   "outputs": [
    {
     "name": "stdout",
     "output_type": "stream",
     "text": [
      "6.048907716717579\n",
      "9.08743367447648\n",
      "9.277799178573199\n",
      "6.039247607859846\n"
     ]
    }
   ],
   "source": [
    "print(np.dot(data[:, 1], x))\n",
    "print(np.dot(data[:, 112], x))\n",
    "print(np.dot(data[:, 128], x))\n",
    "print(np.dot(data[:, 2], x))"
   ]
  },
  {
   "cell_type": "code",
   "execution_count": 20,
   "metadata": {},
   "outputs": [
    {
     "data": {
      "text/plain": [
       "8.138046856589087"
      ]
     },
     "execution_count": 20,
     "metadata": {},
     "output_type": "execute_result"
    }
   ],
   "source": [
    "(6.048907716717579 + 9.08743367447648 + 9.277799178573199)/3"
   ]
  },
  {
   "cell_type": "code",
   "execution_count": 15,
   "metadata": {},
   "outputs": [
    {
     "data": {
      "text/plain": [
       "(490,)"
      ]
     },
     "execution_count": 15,
     "metadata": {},
     "output_type": "execute_result"
    }
   ],
   "source": [
    "x.shape"
   ]
  },
  {
   "cell_type": "code",
   "execution_count": 22,
   "metadata": {},
   "outputs": [],
   "source": [
    "def get_top_stocks(sorted_index):\n",
    "    with open(\"stockNames.csv\", \"r\") as f:\n",
    "        stocks = f.readline()\n",
    "        stock_list = stocks.split(\",\")\n",
    "    top_10_stocks = [stock_list[i[0]] for i in sorted_index][0:10]\n",
    "    top_10_values = [i[1] for i in sorted_index][0:10]\n",
    "    return top_10_stocks, top_10_values\n",
    "\n",
    "sort_index = [(i[0], i[1]) for i in sorted(enumerate(x), \n",
    "                                           key=lambda y:y[1], \n",
    "                                           reverse=True)]\n",
    "# ret_ = get_return(x, data)\n",
    "best_stocks, best_values = get_top_stocks(sort_index)"
   ]
  },
  {
   "cell_type": "code",
   "execution_count": 23,
   "metadata": {},
   "outputs": [
    {
     "data": {
      "text/plain": [
       "(['COH', 'CVH', 'AAPL', 'AA', 'ABC', 'ABI', 'ABK', 'ABS', 'ABT', 'ACE'],\n",
       " [0.6330789142493245,\n",
       "  0.23554162721268312,\n",
       "  0.13137945853799238,\n",
       "  0.0,\n",
       "  0.0,\n",
       "  0.0,\n",
       "  0.0,\n",
       "  0.0,\n",
       "  0.0,\n",
       "  0.0])"
      ]
     },
     "execution_count": 23,
     "metadata": {},
     "output_type": "execute_result"
    }
   ],
   "source": [
    "best_stocks, best_values"
   ]
  },
  {
   "cell_type": "code",
   "execution_count": 32,
   "metadata": {},
   "outputs": [
    {
     "name": "stderr",
     "output_type": "stream",
     "text": [
      "/Users/parulgupta/anaconda3/lib/python3.7/site-packages/ipykernel_launcher.py:1: RuntimeWarning: overflow encountered in reduce\n",
      "  \"\"\"Entry point for launching an IPython kernel.\n"
     ]
    },
    {
     "data": {
      "text/plain": [
       "inf"
      ]
     },
     "execution_count": 32,
     "metadata": {},
     "output_type": "execute_result"
    }
   ],
   "source": [
    "np.multiply.reduce(np.dot(data.transpose(), x))"
   ]
  },
  {
   "cell_type": "code",
   "execution_count": null,
   "metadata": {},
   "outputs": [],
   "source": []
  }
 ],
 "metadata": {
  "kernelspec": {
   "display_name": "Python 3",
   "language": "python",
   "name": "python3"
  },
  "language_info": {
   "codemirror_mode": {
    "name": "ipython",
    "version": 3
   },
   "file_extension": ".py",
   "mimetype": "text/x-python",
   "name": "python",
   "nbconvert_exporter": "python",
   "pygments_lexer": "ipython3",
   "version": "3.7.3"
  }
 },
 "nbformat": 4,
 "nbformat_minor": 2
}
